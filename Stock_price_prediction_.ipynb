{
  "nbformat": 4,
  "nbformat_minor": 0,
  "metadata": {
    "colab": {
      "name": "Stock price prediction .ipynb",
      "provenance": [],
      "collapsed_sections": []
    },
    "kernelspec": {
      "display_name": "Python 3",
      "language": "python",
      "name": "python3"
    },
    "language_info": {
      "codemirror_mode": {
        "name": "ipython",
        "version": 3
      },
      "file_extension": ".py",
      "mimetype": "text/x-python",
      "name": "python",
      "nbconvert_exporter": "python",
      "pygments_lexer": "ipython3",
      "version": "3.8.5"
    }
  },
  "cells": [
    {
      "cell_type": "markdown",
      "metadata": {
        "id": "xpAuMVCwfWs8"
      },
      "source": [
        "# Recurrent Neural Network"
      ]
    },
    {
      "cell_type": "markdown",
      "metadata": {
        "id": "nxJfRe4bfYVA"
      },
      "source": [
        "## Part 1 - Data Preprocessing"
      ]
    },
    {
      "cell_type": "markdown",
      "metadata": {
        "id": "ir9zwETrfbrp"
      },
      "source": [
        "### Importing the libraries"
      ]
    },
    {
      "cell_type": "code",
      "metadata": {
        "id": "ZT1f24vHffuf"
      },
      "source": [
        "import numpy as np\n",
        "import matplotlib.pyplot as plt\n",
        "import pandas as pd"
      ],
      "execution_count": null,
      "outputs": []
    },
    {
      "cell_type": "markdown",
      "metadata": {
        "id": "nQ47JAxrgmaL"
      },
      "source": [
        "### Importing the training set"
      ]
    },
    {
      "cell_type": "code",
      "metadata": {
        "id": "1xiv3pJOgqY3"
      },
      "source": [
        "dataset_train = pd.read_csv('cubtrain3.csv')\n",
        "training_set = dataset_train.iloc[:, 1:2].values"
      ],
      "execution_count": null,
      "outputs": []
    },
    {
      "cell_type": "code",
      "metadata": {
        "colab": {
          "base_uri": "https://localhost:8080/"
        },
        "id": "OwWOc6uAEUYf",
        "outputId": "bc111d18-f814-4f38-c4a0-ceea2eef997b"
      },
      "source": [
        "len(training_set)"
      ],
      "execution_count": null,
      "outputs": [
        {
          "data": {
            "text/plain": [
              "1259"
            ]
          },
          "execution_count": 3,
          "metadata": {},
          "output_type": "execute_result"
        }
      ]
    },
    {
      "cell_type": "markdown",
      "metadata": {
        "id": "HT8_2UJegtG5"
      },
      "source": [
        "### Feature Scaling"
      ]
    },
    {
      "cell_type": "code",
      "metadata": {
        "id": "OTrF2kR7gx9x"
      },
      "source": [
        "from sklearn.preprocessing import MinMaxScaler\n",
        "sc = MinMaxScaler(feature_range = (0, 1))\n",
        "training_set_scaled = sc.fit_transform(training_set)"
      ],
      "execution_count": null,
      "outputs": []
    },
    {
      "cell_type": "code",
      "metadata": {
        "colab": {
          "base_uri": "https://localhost:8080/"
        },
        "id": "Sd4G9n3qE026",
        "outputId": "039ec411-2c83-4d44-b5a8-c017cc41196a"
      },
      "source": [
        "training_set_scaled"
      ],
      "execution_count": null,
      "outputs": [
        {
          "data": {
            "text/plain": [
              "array([[0.0040013 ],\n",
              "       [0.00075026],\n",
              "       [0.00075026],\n",
              "       ...,\n",
              "       [0.55548194],\n",
              "       [0.54337797],\n",
              "       [0.52824802]])"
            ]
          },
          "execution_count": 5,
          "metadata": {},
          "output_type": "execute_result"
        }
      ]
    },
    {
      "cell_type": "markdown",
      "metadata": {
        "id": "JyYgYocqhNUg"
      },
      "source": [
        "### Creating a data structure with 60 timesteps and 1 output"
      ]
    },
    {
      "cell_type": "code",
      "metadata": {
        "id": "iofU21B0i6ST"
      },
      "source": [
        "X_train = []\n",
        "y_train = []\n",
        "for i in range(60, 1259):\n",
        "    X_train.append(training_set_scaled[i-60:i, 0])\n",
        "    y_train.append(training_set_scaled[i, 0])\n",
        "X_train, y_train = np.array(X_train), np.array(y_train)"
      ],
      "execution_count": null,
      "outputs": []
    },
    {
      "cell_type": "markdown",
      "metadata": {
        "id": "D8yaN7Zvi95l"
      },
      "source": [
        "### Reshaping"
      ]
    },
    {
      "cell_type": "code",
      "metadata": {
        "id": "FOXqJHmNjBkz"
      },
      "source": [
        "X_train = np.reshape(X_train, (X_train.shape[0], X_train.shape[1], 1))"
      ],
      "execution_count": null,
      "outputs": []
    },
    {
      "cell_type": "markdown",
      "metadata": {
        "id": "ZRRSOJeVjEWV"
      },
      "source": [
        "## Part 2 - Building and Training the RNN"
      ]
    },
    {
      "cell_type": "markdown",
      "metadata": {
        "id": "k4XV88JMjHXG"
      },
      "source": [
        "### Importing the Keras libraries and packages"
      ]
    },
    {
      "cell_type": "code",
      "metadata": {
        "id": "9JRnqsxEjKsD"
      },
      "source": [
        "from keras.models import Sequential\n",
        "from keras.layers import Dense\n",
        "from keras.layers import LSTM\n",
        "from keras.layers import Dropout"
      ],
      "execution_count": null,
      "outputs": []
    },
    {
      "cell_type": "markdown",
      "metadata": {
        "id": "FEIE-1s9jNzC"
      },
      "source": [
        "### Initialising the RNN"
      ]
    },
    {
      "cell_type": "code",
      "metadata": {
        "id": "1338dJ0UjRKH"
      },
      "source": [
        "regressor = Sequential()"
      ],
      "execution_count": null,
      "outputs": []
    },
    {
      "cell_type": "markdown",
      "metadata": {
        "id": "62eg1OPGjT8z"
      },
      "source": [
        "### Adding the first LSTM layer and some Dropout regularisation"
      ]
    },
    {
      "cell_type": "code",
      "metadata": {
        "id": "2hIinyXUjbVU"
      },
      "source": [
        "regressor.add(LSTM(units = 100, return_sequences = True, input_shape = (X_train.shape[1], 1)))\n",
        "regressor.add(Dropout(0.5))"
      ],
      "execution_count": null,
      "outputs": []
    },
    {
      "cell_type": "markdown",
      "metadata": {
        "id": "3XBIYLyOjlMx"
      },
      "source": [
        "### Adding a second LSTM layer and some Dropout regularisation"
      ]
    },
    {
      "cell_type": "code",
      "metadata": {
        "id": "UG7nrVaSjuZ2"
      },
      "source": [
        "regressor.add(LSTM(units = 100, return_sequences = True))\n",
        "regressor.add(Dropout(0.5))"
      ],
      "execution_count": null,
      "outputs": []
    },
    {
      "cell_type": "markdown",
      "metadata": {
        "id": "Ey3fHVnGj1cu"
      },
      "source": [
        "### Adding a third LSTM layer and some Dropout regularisation"
      ]
    },
    {
      "cell_type": "code",
      "metadata": {
        "id": "PuNi6PgFj7jO"
      },
      "source": [
        "regressor.add(LSTM(units = 100, return_sequences = True))\n",
        "regressor.add(Dropout(0.5))"
      ],
      "execution_count": null,
      "outputs": []
    },
    {
      "cell_type": "markdown",
      "metadata": {
        "id": "SYTrtfTmj933"
      },
      "source": [
        "### Adding a fourth LSTM layer and some Dropout regularisation"
      ]
    },
    {
      "cell_type": "code",
      "metadata": {
        "id": "Jp4Ty8fRkBYV"
      },
      "source": [
        "regressor.add(LSTM(units = 100))\n",
        "regressor.add(Dropout(0.5))"
      ],
      "execution_count": null,
      "outputs": []
    },
    {
      "cell_type": "markdown",
      "metadata": {
        "id": "9ABI6rOIkHhk"
      },
      "source": [
        "### Adding the output layer"
      ]
    },
    {
      "cell_type": "code",
      "metadata": {
        "id": "aM6R1z4WkME8"
      },
      "source": [
        "regressor.add(Dense(units = 1))"
      ],
      "execution_count": null,
      "outputs": []
    },
    {
      "cell_type": "markdown",
      "metadata": {
        "id": "zLx4K7uUkPSh"
      },
      "source": [
        "### Compiling the RNN"
      ]
    },
    {
      "cell_type": "code",
      "metadata": {
        "id": "XTrhVN-tkbko"
      },
      "source": [
        "regressor.compile(optimizer = 'adam', loss = 'mean_squared_error',metrics=\"accuracy\")"
      ],
      "execution_count": null,
      "outputs": []
    },
    {
      "cell_type": "markdown",
      "metadata": {
        "id": "-mPhwKGkkebi"
      },
      "source": [
        "### Fitting the RNN to the Training set"
      ]
    },
    {
      "cell_type": "code",
      "metadata": {
        "colab": {
          "base_uri": "https://localhost:8080/"
        },
        "id": "I06Nkrz5kkb-",
        "outputId": "115e0135-69c4-4fb2-96b0-4d49c9efd7f7"
      },
      "source": [
        "regressor.fit(X_train, y_train, epochs = 500, batch_size =10)\n"
      ],
      "execution_count": null,
      "outputs": [
        {
          "name": "stdout",
          "output_type": "stream",
          "text": [
            "Epoch 1/500\n",
            "120/120 [==============================] - 29s 127ms/step - loss: 0.0089 - accuracy: 0.0011\n",
            "Epoch 2/500\n",
            "120/120 [==============================] - 17s 139ms/step - loss: 0.0070 - accuracy: 0.0014\n",
            "Epoch 3/500\n",
            "120/120 [==============================] - 16s 137ms/step - loss: 0.0052 - accuracy: 0.0014\n",
            "Epoch 4/500\n",
            "120/120 [==============================] - 17s 139ms/step - loss: 0.0049 - accuracy: 2.6198e-04\n",
            "Epoch 5/500\n",
            "120/120 [==============================] - 18s 148ms/step - loss: 0.0047 - accuracy: 0.0011\n",
            "Epoch 6/500\n",
            "120/120 [==============================] - 18s 152ms/step - loss: 0.0043 - accuracy: 4.9817e-04\n",
            "Epoch 7/500\n",
            "120/120 [==============================] - 19s 157ms/step - loss: 0.0043 - accuracy: 0.0026\n",
            "Epoch 8/500\n",
            "120/120 [==============================] - 19s 158ms/step - loss: 0.0042 - accuracy: 0.0016\n",
            "Epoch 9/500\n",
            "120/120 [==============================] - 18s 153ms/step - loss: 0.0035 - accuracy: 6.0410e-04\n",
            "Epoch 10/500\n",
            "120/120 [==============================] - 19s 155ms/step - loss: 0.0039 - accuracy: 8.3016e-04\n",
            "Epoch 11/500\n",
            "120/120 [==============================] - 19s 158ms/step - loss: 0.0032 - accuracy: 5.4944e-04\n",
            "Epoch 12/500\n",
            "120/120 [==============================] - 19s 159ms/step - loss: 0.0035 - accuracy: 0.0014\n",
            "Epoch 13/500\n",
            "120/120 [==============================] - 19s 161ms/step - loss: 0.0037 - accuracy: 0.0019\n",
            "Epoch 14/500\n",
            "120/120 [==============================] - 19s 161ms/step - loss: 0.0034 - accuracy: 9.2865e-04\n",
            "Epoch 15/500\n",
            "120/120 [==============================] - 19s 158ms/step - loss: 0.0030 - accuracy: 3.7167e-04\n",
            "Epoch 16/500\n",
            "120/120 [==============================] - 18s 154ms/step - loss: 0.0032 - accuracy: 2.9048e-04\n",
            "Epoch 17/500\n",
            "120/120 [==============================] - 19s 156ms/step - loss: 0.0026 - accuracy: 6.1835e-04\n",
            "Epoch 18/500\n",
            "120/120 [==============================] - 21s 174ms/step - loss: 0.0034 - accuracy: 2.7137e-04\n",
            "Epoch 19/500\n",
            "120/120 [==============================] - 19s 161ms/step - loss: 0.0026 - accuracy: 0.0016\n",
            "Epoch 20/500\n",
            "120/120 [==============================] - 18s 152ms/step - loss: 0.0027 - accuracy: 7.5902e-04\n",
            "Epoch 21/500\n",
            "120/120 [==============================] - 19s 162ms/step - loss: 0.0025 - accuracy: 4.3826e-04\n",
            "Epoch 22/500\n",
            "120/120 [==============================] - 19s 160ms/step - loss: 0.0023 - accuracy: 5.3632e-04\n",
            "Epoch 23/500\n",
            "120/120 [==============================] - 20s 165ms/step - loss: 0.0026 - accuracy: 0.0027\n",
            "Epoch 24/500\n",
            "120/120 [==============================] - 19s 159ms/step - loss: 0.0027 - accuracy: 1.3258e-04\n",
            "Epoch 25/500\n",
            "120/120 [==============================] - 19s 160ms/step - loss: 0.0026 - accuracy: 0.0018\n",
            "Epoch 26/500\n",
            "120/120 [==============================] - 21s 178ms/step - loss: 0.0027 - accuracy: 7.1051e-05\n",
            "Epoch 27/500\n",
            "120/120 [==============================] - 20s 168ms/step - loss: 0.0025 - accuracy: 0.0018\n",
            "Epoch 28/500\n",
            "120/120 [==============================] - 20s 169ms/step - loss: 0.0023 - accuracy: 2.0776e-04\n",
            "Epoch 29/500\n",
            "120/120 [==============================] - 19s 154ms/step - loss: 0.0024 - accuracy: 0.0016\n",
            "Epoch 30/500\n",
            "120/120 [==============================] - 19s 155ms/step - loss: 0.0023 - accuracy: 0.0018\n",
            "Epoch 31/500\n",
            "120/120 [==============================] - 19s 156ms/step - loss: 0.0024 - accuracy: 4.0429e-04\n",
            "Epoch 32/500\n",
            "120/120 [==============================] - 19s 155ms/step - loss: 0.0024 - accuracy: 9.9393e-04\n",
            "Epoch 33/500\n",
            "120/120 [==============================] - 19s 158ms/step - loss: 0.0023 - accuracy: 2.3443e-04\n",
            "Epoch 34/500\n",
            "120/120 [==============================] - 18s 152ms/step - loss: 0.0022 - accuracy: 2.8087e-04\n",
            "Epoch 35/500\n",
            "120/120 [==============================] - 19s 156ms/step - loss: 0.0021 - accuracy: 4.7368e-04\n",
            "Epoch 36/500\n",
            "120/120 [==============================] - 18s 150ms/step - loss: 0.0022 - accuracy: 4.9109e-05\n",
            "Epoch 37/500\n",
            "120/120 [==============================] - 18s 150ms/step - loss: 0.0020 - accuracy: 1.9907e-04\n",
            "Epoch 38/500\n",
            "120/120 [==============================] - 18s 154ms/step - loss: 0.0020 - accuracy: 5.7632e-04\n",
            "Epoch 39/500\n",
            "120/120 [==============================] - 20s 170ms/step - loss: 0.0023 - accuracy: 2.8087e-04\n",
            "Epoch 40/500\n",
            "120/120 [==============================] - 21s 178ms/step - loss: 0.0021 - accuracy: 5.6277e-04\n",
            "Epoch 41/500\n",
            "120/120 [==============================] - 19s 161ms/step - loss: 0.0020 - accuracy: 0.0020\n",
            "Epoch 42/500\n",
            "120/120 [==============================] - 19s 162ms/step - loss: 0.0020 - accuracy: 4.2678e-04\n",
            "Epoch 43/500\n",
            "120/120 [==============================] - 19s 158ms/step - loss: 0.0022 - accuracy: 3.2000e-04\n",
            "Epoch 44/500\n",
            "120/120 [==============================] - 19s 154ms/step - loss: 0.0019 - accuracy: 7.2563e-04\n",
            "Epoch 45/500\n",
            "120/120 [==============================] - 19s 156ms/step - loss: 0.0021 - accuracy: 3.3007e-04\n",
            "Epoch 46/500\n",
            "120/120 [==============================] - 19s 159ms/step - loss: 0.0019 - accuracy: 0.0012\n",
            "Epoch 47/500\n",
            "120/120 [==============================] - 21s 173ms/step - loss: 0.0021 - accuracy: 0.0015\n",
            "Epoch 48/500\n",
            "120/120 [==============================] - 19s 155ms/step - loss: 0.0020 - accuracy: 0.0019\n",
            "Epoch 49/500\n",
            "120/120 [==============================] - 19s 162ms/step - loss: 0.0021 - accuracy: 6.3285e-04\n",
            "Epoch 50/500\n",
            "120/120 [==============================] - 20s 163ms/step - loss: 0.0022 - accuracy: 8.8784e-04\n",
            "Epoch 51/500\n",
            "120/120 [==============================] - 22s 181ms/step - loss: 0.0019 - accuracy: 6.9353e-04\n",
            "Epoch 52/500\n",
            "120/120 [==============================] - 25s 209ms/step - loss: 0.0019 - accuracy: 5.1069e-04\n",
            "Epoch 53/500\n",
            "120/120 [==============================] - 22s 183ms/step - loss: 0.0018 - accuracy: 0.0011\n",
            "Epoch 54/500\n",
            "120/120 [==============================] - 19s 159ms/step - loss: 0.0017 - accuracy: 3.4798e-05\n",
            "Epoch 55/500\n",
            "120/120 [==============================] - 22s 183ms/step - loss: 0.0023 - accuracy: 0.0020\n",
            "Epoch 56/500\n",
            "120/120 [==============================] - 28s 235ms/step - loss: 0.0018 - accuracy: 0.0017\n",
            "Epoch 57/500\n",
            "120/120 [==============================] - 28s 234ms/step - loss: 0.0019 - accuracy: 7.4216e-04\n",
            "Epoch 58/500\n",
            "120/120 [==============================] - 26s 220ms/step - loss: 0.0017 - accuracy: 0.0036s - loss: 0.0017 - accuracy: 0.\n",
            "Epoch 59/500\n",
            "120/120 [==============================] - 28s 235ms/step - loss: 0.0017 - accuracy: 6.9353e-04s - loss: 0.0017 - accuracy\n",
            "Epoch 60/500\n",
            "120/120 [==============================] - 22s 180ms/step - loss: 0.0018 - accuracy: 3.2000e-04\n",
            "Epoch 61/500\n",
            "120/120 [==============================] - 20s 170ms/step - loss: 0.0016 - accuracy: 5.9009e-04\n",
            "Epoch 62/500\n",
            "120/120 [==============================] - 24s 198ms/step - loss: 0.0018 - accuracy: 0.0011ETA: 19s - loss: 0.0019 - accuracy:  \n",
            "Epoch 63/500\n",
            "120/120 [==============================] - 22s 181ms/step - loss: 0.0020 - accuracy: 1.7350e-04\n",
            "Epoch 64/500\n",
            "120/120 [==============================] - 22s 184ms/step - loss: 0.0020 - accuracy: 3.4028e-04\n",
            "Epoch 65/500\n",
            "120/120 [==============================] - 21s 179ms/step - loss: 0.0017 - accuracy: 7.0942e-04\n",
            "Epoch 66/500\n",
            "120/120 [==============================] - 23s 191ms/step - loss: 0.0017 - accuracy: 0.0019\n",
            "Epoch 67/500\n",
            "120/120 [==============================] - 25s 207ms/step - loss: 0.0018 - accuracy: 2.3443e-04\n",
            "Epoch 68/500\n",
            "120/120 [==============================] - 23s 192ms/step - loss: 0.0017 - accuracy: 0.0012s -\n",
            "Epoch 69/500\n",
            "120/120 [==============================] - 26s 215ms/step - loss: 0.0017 - accuracy: 9.2865e-04\n",
            "Epoch 70/500\n",
            "120/120 [==============================] - 22s 185ms/step - loss: 0.0016 - accuracy: 2.3443e-04\n",
            "Epoch 71/500\n",
            "120/120 [==============================] - 19s 161ms/step - loss: 0.0016 - accuracy: 0.0023\n",
            "Epoch 72/500\n",
            "120/120 [==============================] - 23s 192ms/step - loss: 0.0016 - accuracy: 2.4351e-04\n",
            "Epoch 73/500\n",
            "120/120 [==============================] - 24s 203ms/step - loss: 0.0018 - accuracy: 4.8584e-04\n",
            "Epoch 74/500\n",
            "120/120 [==============================] - 22s 185ms/step - loss: 0.0019 - accuracy: 1.7350e-04\n",
            "Epoch 75/500\n",
            "120/120 [==============================] - 20s 166ms/step - loss: 0.0019 - accuracy: 6.0410e-04\n",
            "Epoch 76/500\n",
            "120/120 [==============================] - 19s 160ms/step - loss: 0.0016 - accuracy: 5.6277e-04\n",
            "Epoch 77/500\n",
            "120/120 [==============================] - 20s 167ms/step - loss: 0.0020 - accuracy: 1.3786e-05\n",
            "Epoch 78/500\n",
            "120/120 [==============================] - 19s 157ms/step - loss: 0.0017 - accuracy: 0.0027\n",
            "Epoch 79/500\n",
            "120/120 [==============================] - 23s 190ms/step - loss: 0.0016 - accuracy: 4.2678e-04\n",
            "Epoch 80/500\n",
            "120/120 [==============================] - 24s 197ms/step - loss: 0.0016 - accuracy: 1.4871e-04\n",
            "Epoch 81/500\n",
            "120/120 [==============================] - 20s 168ms/step - loss: 0.0015 - accuracy: 1.4871e-04\n",
            "Epoch 82/500\n",
            "120/120 [==============================] - 20s 166ms/step - loss: 0.0016 - accuracy: 8.1179e-04\n",
            "Epoch 83/500\n",
            "120/120 [==============================] - 19s 159ms/step - loss: 0.0018 - accuracy: 0.0020\n",
            "Epoch 84/500\n",
            "120/120 [==============================] - 20s 165ms/step - loss: 0.0016 - accuracy: 3.0020e-04\n",
            "Epoch 85/500\n",
            "120/120 [==============================] - 19s 154ms/step - loss: 0.0015 - accuracy: 7.9383e-04\n",
            "Epoch 86/500\n",
            "120/120 [==============================] - 19s 159ms/step - loss: 0.0019 - accuracy: 4.7368e-04\n",
            "Epoch 87/500\n",
            "120/120 [==============================] - 19s 161ms/step - loss: 0.0014 - accuracy: 3.7167e-04\n",
            "Epoch 88/500\n",
            "120/120 [==============================] - 20s 165ms/step - loss: 0.0017 - accuracy: 0.0012\n",
            "Epoch 89/500\n",
            "120/120 [==============================] - 20s 164ms/step - loss: 0.0016 - accuracy: 3.9327e-04- ETA: 1s - loss: 0.0\n",
            "Epoch 90/500\n",
            "120/120 [==============================] - 21s 172ms/step - loss: 0.0015 - accuracy: 0.0016\n",
            "Epoch 91/500\n",
            "120/120 [==============================] - 21s 172ms/step - loss: 0.0018 - accuracy: 3.6107e-04\n",
            "Epoch 92/500\n",
            "120/120 [==============================] - 19s 162ms/step - loss: 0.0016 - accuracy: 1.4871e-04\n",
            "Epoch 93/500\n",
            "120/120 [==============================] - 20s 169ms/step - loss: 0.0015 - accuracy: 4.1546e-04\n",
            "Epoch 94/500\n",
            "120/120 [==============================] - 19s 159ms/step - loss: 0.0017 - accuracy: 6.9353e-04\n",
            "Epoch 95/500\n",
            "120/120 [==============================] - 19s 161ms/step - loss: 0.0017 - accuracy: 0.0019\n",
            "Epoch 96/500\n",
            "120/120 [==============================] - 20s 162ms/step - loss: 0.0016 - accuracy: 4.3826e-04\n",
            "Epoch 97/500\n",
            "120/120 [==============================] - 19s 158ms/step - loss: 0.0013 - accuracy: 3.4028e-04\n",
            "Epoch 98/500\n",
            "120/120 [==============================] - 19s 162ms/step - loss: 0.0017 - accuracy: 2.9048e-04\n",
            "Epoch 99/500\n",
            "120/120 [==============================] - 19s 159ms/step - loss: 0.0014 - accuracy: 8.1179e-04\n",
            "Epoch 100/500\n",
            "120/120 [==============================] - 21s 173ms/step - loss: 0.0013 - accuracy: 0.0011\n",
            "Epoch 101/500\n",
            "120/120 [==============================] - 22s 182ms/step - loss: 0.0015 - accuracy: 6.1835e-04\n",
            "Epoch 102/500\n",
            "120/120 [==============================] - 24s 198ms/step - loss: 0.0016 - accuracy: 0.0023\n",
            "Epoch 103/500\n",
            "120/120 [==============================] - 26s 214ms/step - loss: 0.0015 - accuracy: 2.9048e-04\n",
            "Epoch 104/500\n",
            "120/120 [==============================] - 23s 191ms/step - loss: 0.0016 - accuracy: 0.0036s - loss: 0\n",
            "Epoch 105/500\n",
            "120/120 [==============================] - 27s 226ms/step - loss: 0.0017 - accuracy: 9.0799e-04\n",
            "Epoch 106/500\n",
            "120/120 [==============================] - 22s 186ms/step - loss: 0.0015 - accuracy: 0.0019\n",
            "Epoch 107/500\n",
            "120/120 [==============================] - 21s 173ms/step - loss: 0.0015 - accuracy: 6.3672e-05\n",
            "Epoch 108/500\n",
            "120/120 [==============================] - 19s 161ms/step - loss: 0.0014 - accuracy: 6.1835e-04\n",
            "Epoch 109/500\n",
            "120/120 [==============================] - 19s 161ms/step - loss: 0.0015 - accuracy: 0.0021\n",
            "Epoch 110/500\n",
            "120/120 [==============================] - 19s 162ms/step - loss: 0.0016 - accuracy: 0.0023\n",
            "Epoch 111/500\n",
            "120/120 [==============================] - 19s 161ms/step - loss: 0.0015 - accuracy: 0.0014\n",
            "Epoch 112/500\n",
            "120/120 [==============================] - 20s 167ms/step - loss: 0.0017 - accuracy: 0.0013\n",
            "Epoch 113/500\n",
            "120/120 [==============================] - 19s 158ms/step - loss: 0.0015 - accuracy: 0.0014\n",
            "Epoch 114/500\n",
            "120/120 [==============================] - 19s 160ms/step - loss: 0.0017 - accuracy: 1.6516e-04\n",
            "Epoch 115/500\n",
            "120/120 [==============================] - 19s 154ms/step - loss: 0.0013 - accuracy: 0.0016\n",
            "Epoch 116/500\n",
            "120/120 [==============================] - 19s 160ms/step - loss: 0.0015 - accuracy: 0.0016\n",
            "Epoch 117/500\n",
            "120/120 [==============================] - 19s 159ms/step - loss: 0.0016 - accuracy: 1.6516e-04\n",
            "Epoch 118/500\n",
            "120/120 [==============================] - 19s 160ms/step - loss: 0.0015 - accuracy: 6.3672e-05\n",
            "Epoch 119/500\n",
            "120/120 [==============================] - 18s 153ms/step - loss: 0.0014 - accuracy: 7.0942e-04\n",
            "Epoch 120/500\n",
            "120/120 [==============================] - 18s 152ms/step - loss: 0.0019 - accuracy: 6.6263e-04\n",
            "Epoch 121/500\n",
            "120/120 [==============================] - 18s 154ms/step - loss: 0.0015 - accuracy: 3.8240e-04\n",
            "Epoch 122/500\n",
            "120/120 [==============================] - 19s 155ms/step - loss: 0.0014 - accuracy: 0.0018\n",
            "Epoch 123/500\n",
            "120/120 [==============================] - 19s 162ms/step - loss: 0.0016 - accuracy: 4.6171e-04\n",
            "Epoch 124/500\n",
            "120/120 [==============================] - 18s 153ms/step - loss: 0.0015 - accuracy: 4.3826e-04\n",
            "Epoch 125/500\n",
            "120/120 [==============================] - 18s 154ms/step - loss: 0.0015 - accuracy: 2.8087e-04\n",
            "Epoch 126/500\n",
            "120/120 [==============================] - 18s 151ms/step - loss: 0.0015 - accuracy: 2.8087e-04\n",
            "Epoch 127/500\n",
            "120/120 [==============================] - 19s 158ms/step - loss: 0.0014 - accuracy: 2.3443e-04\n",
            "Epoch 128/500\n",
            "120/120 [==============================] - 20s 164ms/step - loss: 0.0014 - accuracy: 0.0012\n",
            "Epoch 129/500\n",
            "120/120 [==============================] - 19s 159ms/step - loss: 0.0015 - accuracy: 1.0124e-04\n",
            "Epoch 130/500\n",
            "120/120 [==============================] - 19s 157ms/step - loss: 0.0014 - accuracy: 0.0013\n",
            "Epoch 131/500\n",
            "120/120 [==============================] - 18s 154ms/step - loss: 0.0015 - accuracy: 6.3672e-05\n",
            "Epoch 132/500\n",
            "120/120 [==============================] - 18s 152ms/step - loss: 0.0015 - accuracy: 0.0011\n",
            "Epoch 133/500\n",
            "120/120 [==============================] - 18s 153ms/step - loss: 0.0014 - accuracy: 0.0011\n",
            "Epoch 134/500\n",
            "120/120 [==============================] - 19s 158ms/step - loss: 0.0015 - accuracy: 2.7734e-05\n",
            "Epoch 135/500\n",
            "120/120 [==============================] - 19s 162ms/step - loss: 0.0016 - accuracy: 3.2000e-04\n",
            "Epoch 136/500\n",
            "120/120 [==============================] - 19s 158ms/step - loss: 0.0016 - accuracy: 0.0014s - loss:\n",
            "Epoch 137/500\n",
            "120/120 [==============================] - 19s 156ms/step - loss: 0.0015 - accuracy: 2.7137e-04\n",
            "Epoch 138/500\n",
            "120/120 [==============================] - 18s 154ms/step - loss: 0.0015 - accuracy: 0.0013\n",
            "Epoch 139/500\n",
            "120/120 [==============================] - 19s 159ms/step - loss: 0.0015 - accuracy: 2.0776e-04\n",
            "Epoch 140/500\n",
            "120/120 [==============================] - 19s 160ms/step - loss: 0.0014 - accuracy: 4.6171e-04\n",
            "Epoch 141/500\n",
            "120/120 [==============================] - 18s 148ms/step - loss: 0.0013 - accuracy: 0.0010\n",
            "Epoch 142/500\n",
            "120/120 [==============================] - 16s 136ms/step - loss: 0.0014 - accuracy: 0.0011\n",
            "Epoch 143/500\n",
            "120/120 [==============================] - 17s 140ms/step - loss: 0.0013 - accuracy: 0.0029\n",
            "Epoch 144/500\n",
            "120/120 [==============================] - 16s 136ms/step - loss: 0.0014 - accuracy: 5.6359e-05\n",
            "Epoch 145/500\n",
            "120/120 [==============================] - 17s 140ms/step - loss: 0.0015 - accuracy: 9.9393e-04\n",
            "Epoch 146/500\n",
            "120/120 [==============================] - 16s 136ms/step - loss: 0.0014 - accuracy: 3.4798e-05\n",
            "Epoch 147/500\n",
            "120/120 [==============================] - 16s 136ms/step - loss: 0.0013 - accuracy: 2.8087e-04\n",
            "Epoch 148/500\n",
            "120/120 [==============================] - 16s 137ms/step - loss: 0.0016 - accuracy: 3.2000e-04\n",
            "Epoch 149/500\n",
            "120/120 [==============================] - 17s 138ms/step - loss: 0.0015 - accuracy: 0.0018\n",
            "Epoch 150/500\n",
            "120/120 [==============================] - 16s 136ms/step - loss: 0.0013 - accuracy: 5.6359e-05\n",
            "Epoch 151/500\n"
          ]
        },
        {
          "name": "stdout",
          "output_type": "stream",
          "text": [
            "120/120 [==============================] - 15s 129ms/step - loss: 0.0014 - accuracy: 4.3826e-04\n",
            "Epoch 152/500\n",
            "120/120 [==============================] - 16s 129ms/step - loss: 0.0014 - accuracy: 3.9327e-04\n",
            "Epoch 153/500\n",
            "120/120 [==============================] - 16s 129ms/step - loss: 0.0012 - accuracy: 1.9046e-04\n",
            "Epoch 154/500\n",
            "120/120 [==============================] - 16s 130ms/step - loss: 0.0016 - accuracy: 4.1922e-05\n",
            "Epoch 155/500\n",
            "120/120 [==============================] - 17s 144ms/step - loss: 0.0014 - accuracy: 0.0020\n",
            "Epoch 156/500\n",
            "120/120 [==============================] - 17s 142ms/step - loss: 0.0017 - accuracy: 8.4894e-04\n",
            "Epoch 157/500\n",
            "120/120 [==============================] - 17s 140ms/step - loss: 0.0015 - accuracy: 4.2678e-04\n",
            "Epoch 158/500\n",
            "120/120 [==============================] - 16s 133ms/step - loss: 0.0015 - accuracy: 1.8194e-04\n",
            "Epoch 159/500\n",
            "120/120 [==============================] - 16s 131ms/step - loss: 0.0015 - accuracy: 4.7368e-04\n",
            "Epoch 160/500\n",
            "120/120 [==============================] - 16s 130ms/step - loss: 0.0015 - accuracy: 0.0019\n",
            "Epoch 161/500\n",
            "120/120 [==============================] - 16s 133ms/step - loss: 0.0014 - accuracy: 0.0011\n",
            "Epoch 162/500\n",
            "120/120 [==============================] - 16s 132ms/step - loss: 0.0014 - accuracy: 0.0026\n",
            "Epoch 163/500\n",
            "120/120 [==============================] - 16s 133ms/step - loss: 0.0014 - accuracy: 6.3285e-04\n",
            "Epoch 164/500\n",
            "120/120 [==============================] - 16s 131ms/step - loss: 0.0012 - accuracy: 7.5902e-04\n",
            "Epoch 165/500\n",
            "120/120 [==============================] - 17s 139ms/step - loss: 0.0013 - accuracy: 0.0029\n",
            "Epoch 166/500\n",
            "120/120 [==============================] - 17s 142ms/step - loss: 0.0016 - accuracy: 4.1546e-04\n",
            "Epoch 167/500\n",
            "120/120 [==============================] - 16s 134ms/step - loss: 0.0014 - accuracy: 4.3826e-04\n",
            "Epoch 168/500\n",
            "120/120 [==============================] - 16s 133ms/step - loss: 0.0014 - accuracy: 0.0029\n",
            "Epoch 169/500\n",
            "120/120 [==============================] - 16s 132ms/step - loss: 0.0014 - accuracy: 5.4944e-04\n",
            "Epoch 170/500\n",
            "120/120 [==============================] - 16s 131ms/step - loss: 0.0017 - accuracy: 1.3258e-04\n",
            "Epoch 171/500\n",
            "120/120 [==============================] - 16s 131ms/step - loss: 0.0013 - accuracy: 6.7794e-04\n",
            "Epoch 172/500\n",
            "120/120 [==============================] - 16s 134ms/step - loss: 0.0013 - accuracy: 0.0013\n",
            "Epoch 173/500\n",
            "120/120 [==============================] - 16s 132ms/step - loss: 0.0012 - accuracy: 0.0013\n",
            "Epoch 174/500\n",
            "120/120 [==============================] - 16s 133ms/step - loss: 0.0013 - accuracy: 1.9046e-04\n",
            "Epoch 175/500\n",
            "120/120 [==============================] - 16s 131ms/step - loss: 0.0014 - accuracy: 0.0013\n",
            "Epoch 176/500\n",
            "120/120 [==============================] - 16s 130ms/step - loss: 0.0016 - accuracy: 0.0012\n",
            "Epoch 177/500\n",
            "120/120 [==============================] - 16s 135ms/step - loss: 0.0012 - accuracy: 8.3016e-04\n",
            "Epoch 178/500\n",
            "120/120 [==============================] - 16s 135ms/step - loss: 0.0013 - accuracy: 4.8584e-04\n",
            "Epoch 179/500\n",
            "120/120 [==============================] - 16s 130ms/step - loss: 0.0017 - accuracy: 6.6263e-04\n",
            "Epoch 180/500\n",
            "120/120 [==============================] - 16s 132ms/step - loss: 0.0012 - accuracy: 3.4028e-04\n",
            "Epoch 181/500\n",
            "120/120 [==============================] - 16s 132ms/step - loss: 0.0015 - accuracy: 0.0019\n",
            "Epoch 182/500\n",
            "120/120 [==============================] - 16s 133ms/step - loss: 0.0014 - accuracy: 4.4990e-04\n",
            "Epoch 183/500\n",
            "120/120 [==============================] - 16s 130ms/step - loss: 0.0015 - accuracy: 8.8784e-04\n",
            "Epoch 184/500\n",
            "120/120 [==============================] - 16s 131ms/step - loss: 0.0015 - accuracy: 4.2678e-04\n",
            "Epoch 185/500\n",
            "120/120 [==============================] - 16s 130ms/step - loss: 0.0015 - accuracy: 3.4798e-05\n",
            "Epoch 186/500\n",
            "120/120 [==============================] - 16s 131ms/step - loss: 0.0014 - accuracy: 8.3016e-04\n",
            "Epoch 187/500\n",
            "120/120 [==============================] - 16s 134ms/step - loss: 0.0014 - accuracy: 0.0014\n",
            "Epoch 188/500\n",
            "120/120 [==============================] - 16s 131ms/step - loss: 0.0013 - accuracy: 3.4028e-04\n",
            "Epoch 189/500\n",
            "120/120 [==============================] - 17s 139ms/step - loss: 0.0013 - accuracy: 7.2563e-04\n",
            "Epoch 190/500\n",
            "120/120 [==============================] - 16s 133ms/step - loss: 0.0014 - accuracy: 9.4985e-04\n",
            "Epoch 191/500\n",
            "120/120 [==============================] - 16s 130ms/step - loss: 0.0012 - accuracy: 2.5269e-04\n",
            "Epoch 192/500\n",
            "120/120 [==============================] - 16s 132ms/step - loss: 0.0013 - accuracy: 8.3016e-04\n",
            "Epoch 193/500\n",
            "120/120 [==============================] - 17s 142ms/step - loss: 0.0014 - accuracy: 0.0018\n",
            "Epoch 194/500\n",
            "120/120 [==============================] - 16s 136ms/step - loss: 0.0013 - accuracy: 3.4028e-04\n",
            "Epoch 195/500\n",
            "120/120 [==============================] - 16s 136ms/step - loss: 0.0013 - accuracy: 1.5689e-04\n",
            "Epoch 196/500\n",
            "120/120 [==============================] - 16s 135ms/step - loss: 0.0014 - accuracy: 5.9009e-04\n",
            "Epoch 197/500\n",
            "120/120 [==============================] - 17s 140ms/step - loss: 0.0014 - accuracy: 9.9393e-04\n",
            "Epoch 198/500\n",
            "120/120 [==============================] - 16s 136ms/step - loss: 0.0013 - accuracy: 0.0018\n",
            "Epoch 199/500\n",
            "120/120 [==============================] - 17s 139ms/step - loss: 0.0015 - accuracy: 4.6171e-04\n",
            "Epoch 200/500\n",
            "120/120 [==============================] - 18s 152ms/step - loss: 0.0012 - accuracy: 5.1069e-04\n",
            "Epoch 201/500\n",
            "120/120 [==============================] - 19s 156ms/step - loss: 0.0013 - accuracy: 2.4351e-04\n",
            "Epoch 202/500\n",
            "120/120 [==============================] - 18s 150ms/step - loss: 0.0013 - accuracy: 6.3285e-04\n",
            "Epoch 203/500\n",
            "120/120 [==============================] - 16s 136ms/step - loss: 0.0012 - accuracy: 3.1004e-04\n",
            "Epoch 204/500\n",
            "120/120 [==============================] - 16s 133ms/step - loss: 0.0013 - accuracy: 6.7794e-04\n",
            "Epoch 205/500\n",
            "120/120 [==============================] - 16s 136ms/step - loss: 0.0014 - accuracy: 0.0015\n",
            "Epoch 206/500\n",
            "120/120 [==============================] - 17s 139ms/step - loss: 0.0011 - accuracy: 5.2341e-04\n",
            "Epoch 207/500\n",
            "120/120 [==============================] - 17s 139ms/step - loss: 0.0011 - accuracy: 0.0022\n",
            "Epoch 208/500\n",
            "120/120 [==============================] - 17s 140ms/step - loss: 0.0012 - accuracy: 0.0027\n",
            "Epoch 209/500\n",
            "120/120 [==============================] - 17s 141ms/step - loss: 0.0011 - accuracy: 8.3016e-04\n",
            "Epoch 210/500\n",
            "120/120 [==============================] - 16s 136ms/step - loss: 0.0014 - accuracy: 2.1656e-04\n",
            "Epoch 211/500\n",
            "120/120 [==============================] - 17s 139ms/step - loss: 0.0013 - accuracy: 2.4351e-04\n",
            "Epoch 212/500\n",
            "120/120 [==============================] - 17s 142ms/step - loss: 0.0011 - accuracy: 6.0410e-04\n",
            "Epoch 213/500\n",
            "120/120 [==============================] - 16s 136ms/step - loss: 0.0014 - accuracy: 0.0011\n",
            "Epoch 214/500\n",
            "120/120 [==============================] - 16s 135ms/step - loss: 0.0013 - accuracy: 5.4944e-04\n",
            "Epoch 215/500\n",
            "120/120 [==============================] - 17s 139ms/step - loss: 0.0014 - accuracy: 2.6198e-04\n",
            "Epoch 216/500\n",
            "120/120 [==============================] - 16s 136ms/step - loss: 0.0014 - accuracy: 1.9907e-04\n",
            "Epoch 217/500\n",
            "120/120 [==============================] - 16s 135ms/step - loss: 0.0016 - accuracy: 0.0021\n",
            "Epoch 218/500\n",
            "120/120 [==============================] - 16s 133ms/step - loss: 0.0013 - accuracy: 8.1179e-04\n",
            "Epoch 219/500\n",
            "120/120 [==============================] - 17s 142ms/step - loss: 0.0013 - accuracy: 8.6010e-05\n",
            "Epoch 220/500\n",
            "120/120 [==============================] - 17s 138ms/step - loss: 0.0012 - accuracy: 0.0012\n",
            "Epoch 221/500\n",
            "120/120 [==============================] - 17s 140ms/step - loss: 0.0012 - accuracy: 3.4798e-05\n",
            "Epoch 222/500\n",
            "120/120 [==============================] - 17s 138ms/step - loss: 0.0017 - accuracy: 0.0010\n",
            "Epoch 223/500\n",
            "120/120 [==============================] - 17s 137ms/step - loss: 0.0012 - accuracy: 0.0012\n",
            "Epoch 224/500\n",
            "120/120 [==============================] - 17s 138ms/step - loss: 0.0013 - accuracy: 3.8240e-04\n",
            "Epoch 225/500\n",
            "120/120 [==============================] - 17s 137ms/step - loss: 0.0012 - accuracy: 4.2678e-04\n",
            "Epoch 226/500\n",
            "120/120 [==============================] - 16s 132ms/step - loss: 0.0012 - accuracy: 2.5269e-04\n",
            "Epoch 227/500\n",
            "120/120 [==============================] - 16s 129ms/step - loss: 0.0014 - accuracy: 4.0429e-04\n",
            "Epoch 228/500\n",
            "120/120 [==============================] - 16s 134ms/step - loss: 0.0015 - accuracy: 0.0013\n",
            "Epoch 229/500\n",
            "120/120 [==============================] - 16s 134ms/step - loss: 0.0013 - accuracy: 0.0011\n",
            "Epoch 230/500\n",
            "120/120 [==============================] - 16s 137ms/step - loss: 0.0011 - accuracy: 0.0027\n",
            "Epoch 231/500\n",
            "120/120 [==============================] - 16s 136ms/step - loss: 0.0013 - accuracy: 1.4871e-04\n",
            "Epoch 232/500\n",
            "120/120 [==============================] - 16s 133ms/step - loss: 0.0011 - accuracy: 1.3258e-04\n",
            "Epoch 233/500\n",
            "120/120 [==============================] - 17s 142ms/step - loss: 0.0013 - accuracy: 2.6198e-04\n",
            "Epoch 234/500\n",
            "120/120 [==============================] - 17s 141ms/step - loss: 0.0012 - accuracy: 1.4871e-04\n",
            "Epoch 235/500\n",
            "120/120 [==============================] - 20s 164ms/step - loss: 0.0011 - accuracy: 9.3592e-05\n",
            "Epoch 236/500\n",
            "120/120 [==============================] - 20s 165ms/step - loss: 0.0012 - accuracy: 3.2000e-04\n",
            "Epoch 237/500\n",
            "120/120 [==============================] - 20s 165ms/step - loss: 0.0012 - accuracy: 0.0019\n",
            "Epoch 238/500\n",
            "120/120 [==============================] - 20s 166ms/step - loss: 0.0012 - accuracy: 0.0011\n",
            "Epoch 239/500\n",
            "120/120 [==============================] - 21s 175ms/step - loss: 0.0013 - accuracy: 0.0015\n",
            "Epoch 240/500\n",
            "120/120 [==============================] - 19s 160ms/step - loss: 0.0012 - accuracy: 1.9907e-04\n",
            "Epoch 241/500\n",
            "120/120 [==============================] - 19s 158ms/step - loss: 0.0013 - accuracy: 7.7624e-04\n",
            "Epoch 242/500\n",
            "120/120 [==============================] - 20s 164ms/step - loss: 0.0014 - accuracy: 4.6171e-04\n",
            "Epoch 243/500\n",
            "120/120 [==============================] - 22s 181ms/step - loss: 0.0013 - accuracy: 7.4216e-04\n",
            "Epoch 244/500\n",
            "120/120 [==============================] - 19s 162ms/step - loss: 0.0011 - accuracy: 3.9327e-04\n",
            "Epoch 245/500\n",
            "120/120 [==============================] - 18s 153ms/step - loss: 0.0013 - accuracy: 4.8584e-04\n",
            "Epoch 246/500\n",
            "120/120 [==============================] - 18s 149ms/step - loss: 0.0013 - accuracy: 0.0015\n",
            "Epoch 247/500\n",
            "120/120 [==============================] - 20s 165ms/step - loss: 0.0012 - accuracy: 3.2000e-04\n",
            "Epoch 248/500\n",
            "120/120 [==============================] - 17s 143ms/step - loss: 0.0012 - accuracy: 5.4944e-04\n",
            "Epoch 249/500\n",
            "120/120 [==============================] - 19s 156ms/step - loss: 0.0013 - accuracy: 0.0018\n",
            "Epoch 250/500\n",
            "120/120 [==============================] - 18s 148ms/step - loss: 0.0012 - accuracy: 2.9048e-04\n",
            "Epoch 251/500\n",
            "120/120 [==============================] - 17s 145ms/step - loss: 0.0012 - accuracy: 1.6516e-04\n",
            "Epoch 252/500\n",
            "120/120 [==============================] - 20s 165ms/step - loss: 0.0014 - accuracy: 1.1676e-04\n",
            "Epoch 253/500\n",
            "120/120 [==============================] - 17s 145ms/step - loss: 0.0012 - accuracy: 9.2865e-04\n",
            "Epoch 254/500\n",
            "120/120 [==============================] - 16s 137ms/step - loss: 0.0013 - accuracy: 4.2678e-04\n",
            "Epoch 255/500\n",
            "120/120 [==============================] - 16s 134ms/step - loss: 0.0012 - accuracy: 5.6277e-04\n",
            "Epoch 256/500\n",
            "120/120 [==============================] - 16s 137ms/step - loss: 0.0011 - accuracy: 1.4061e-04\n",
            "Epoch 257/500\n",
            "120/120 [==============================] - 16s 133ms/step - loss: 0.0012 - accuracy: 6.4761e-04\n",
            "Epoch 258/500\n",
            "120/120 [==============================] - 18s 147ms/step - loss: 0.0013 - accuracy: 1.9046e-04\n",
            "Epoch 259/500\n",
            "120/120 [==============================] - 16s 134ms/step - loss: 0.0011 - accuracy: 2.6198e-04\n",
            "Epoch 260/500\n",
            "120/120 [==============================] - 16s 134ms/step - loss: 0.0013 - accuracy: 4.1546e-04\n",
            "Epoch 261/500\n",
            "120/120 [==============================] - 16s 134ms/step - loss: 0.0013 - accuracy: 6.4761e-04\n",
            "Epoch 262/500\n",
            "120/120 [==============================] - 17s 138ms/step - loss: 0.0013 - accuracy: 4.8584e-04\n",
            "Epoch 263/500\n",
            "120/120 [==============================] - 16s 136ms/step - loss: 0.0012 - accuracy: 2.0776e-04\n",
            "Epoch 264/500\n",
            "120/120 [==============================] - 17s 141ms/step - loss: 0.0012 - accuracy: 2.3443e-04\n",
            "Epoch 265/500\n",
            "120/120 [==============================] - 16s 134ms/step - loss: 0.0013 - accuracy: 0.0012\n",
            "Epoch 266/500\n",
            "120/120 [==============================] - 16s 137ms/step - loss: 0.0012 - accuracy: 0.0020\n",
            "Epoch 267/500\n",
            "120/120 [==============================] - 16s 133ms/step - loss: 0.0012 - accuracy: 7.9383e-04\n",
            "Epoch 268/500\n",
            "120/120 [==============================] - 16s 133ms/step - loss: 0.0012 - accuracy: 1.8194e-04\n",
            "Epoch 269/500\n",
            "120/120 [==============================] - 18s 146ms/step - loss: 0.0012 - accuracy: 0.0014\n",
            "Epoch 270/500\n",
            "120/120 [==============================] - 17s 141ms/step - loss: 0.0014 - accuracy: 0.0017\n",
            "Epoch 271/500\n",
            "120/120 [==============================] - 16s 137ms/step - loss: 0.0013 - accuracy: 0.0012\n",
            "Epoch 272/500\n",
            "120/120 [==============================] - 16s 136ms/step - loss: 0.0012 - accuracy: 9.7159e-04\n",
            "Epoch 273/500\n",
            "120/120 [==============================] - 16s 135ms/step - loss: 0.0012 - accuracy: 1.6516e-04\n",
            "Epoch 274/500\n",
            "120/120 [==============================] - 16s 134ms/step - loss: 0.0013 - accuracy: 6.0410e-04\n",
            "Epoch 275/500\n",
            "120/120 [==============================] - 17s 142ms/step - loss: 0.0014 - accuracy: 0.0016\n",
            "Epoch 276/500\n",
            "120/120 [==============================] - 16s 134ms/step - loss: 0.0012 - accuracy: 0.0013\n",
            "Epoch 277/500\n",
            "120/120 [==============================] - 17s 138ms/step - loss: 0.0012 - accuracy: 3.5061e-04\n",
            "Epoch 278/500\n",
            "120/120 [==============================] - 16s 135ms/step - loss: 0.0013 - accuracy: 8.3016e-04\n",
            "Epoch 279/500\n",
            "120/120 [==============================] - 17s 139ms/step - loss: 0.0013 - accuracy: 8.6010e-05\n",
            "Epoch 280/500\n",
            "120/120 [==============================] - 17s 138ms/step - loss: 0.0011 - accuracy: 6.6263e-04\n",
            "Epoch 281/500\n",
            "120/120 [==============================] - 16s 137ms/step - loss: 0.0016 - accuracy: 0.0017\n",
            "Epoch 282/500\n",
            "120/120 [==============================] - 17s 138ms/step - loss: 0.0013 - accuracy: 5.2341e-04\n",
            "Epoch 283/500\n",
            "120/120 [==============================] - 16s 137ms/step - loss: 0.0012 - accuracy: 7.0942e-04\n",
            "Epoch 284/500\n",
            "120/120 [==============================] - 17s 138ms/step - loss: 0.0012 - accuracy: 0.0032\n",
            "Epoch 285/500\n",
            "120/120 [==============================] - 16s 137ms/step - loss: 0.0012 - accuracy: 0.0036\n",
            "Epoch 286/500\n",
            "120/120 [==============================] - 17s 138ms/step - loss: 0.0013 - accuracy: 3.9327e-04\n",
            "Epoch 287/500\n",
            "120/120 [==============================] - 17s 140ms/step - loss: 0.0014 - accuracy: 3.7167e-04\n",
            "Epoch 288/500\n",
            "120/120 [==============================] - 17s 141ms/step - loss: 0.0013 - accuracy: 3.2000e-04\n",
            "Epoch 289/500\n",
            "120/120 [==============================] - 17s 138ms/step - loss: 0.0011 - accuracy: 0.0044\n",
            "Epoch 290/500\n",
            "120/120 [==============================] - 16s 137ms/step - loss: 0.0013 - accuracy: 4.1546e-04\n",
            "Epoch 291/500\n",
            "120/120 [==============================] - 17s 138ms/step - loss: 0.0013 - accuracy: 0.0016\n",
            "Epoch 292/500\n",
            "120/120 [==============================] - 16s 137ms/step - loss: 0.0012 - accuracy: 6.3285e-04\n",
            "Epoch 293/500\n",
            "120/120 [==============================] - 17s 138ms/step - loss: 0.0011 - accuracy: 2.3443e-04\n",
            "Epoch 294/500\n",
            "120/120 [==============================] - 17s 138ms/step - loss: 0.0012 - accuracy: 1.4061e-04\n",
            "Epoch 295/500\n",
            "120/120 [==============================] - 17s 145ms/step - loss: 0.0011 - accuracy: 5.6277e-04\n",
            "Epoch 296/500\n",
            "120/120 [==============================] - 17s 140ms/step - loss: 0.0011 - accuracy: 0.0024\n",
            "Epoch 297/500\n",
            "120/120 [==============================] - 17s 144ms/step - loss: 0.0010 - accuracy: 1.6516e-04\n",
            "Epoch 298/500\n",
            "120/120 [==============================] - 16s 134ms/step - loss: 0.0012 - accuracy: 0.0011\n",
            "Epoch 299/500\n",
            "120/120 [==============================] - 16s 133ms/step - loss: 0.0012 - accuracy: 6.0410e-04\n",
            "Epoch 300/500\n",
            "120/120 [==============================] - 16s 133ms/step - loss: 0.0014 - accuracy: 9.9393e-04\n",
            "Epoch 301/500\n"
          ]
        },
        {
          "name": "stdout",
          "output_type": "stream",
          "text": [
            "120/120 [==============================] - 16s 130ms/step - loss: 0.0011 - accuracy: 5.3632e-04\n",
            "Epoch 302/500\n",
            "120/120 [==============================] - 16s 130ms/step - loss: 0.0012 - accuracy: 4.0429e-04\n",
            "Epoch 303/500\n",
            "120/120 [==============================] - 16s 129ms/step - loss: 0.0011 - accuracy: 8.3016e-04\n",
            "Epoch 304/500\n",
            "120/120 [==============================] - 15s 129ms/step - loss: 0.0011 - accuracy: 7.4216e-04\n",
            "Epoch 305/500\n",
            "120/120 [==============================] - 16s 131ms/step - loss: 0.0013 - accuracy: 2.7734e-05\n",
            "Epoch 306/500\n",
            "120/120 [==============================] - 16s 131ms/step - loss: 0.0013 - accuracy: 0.0023\n",
            "Epoch 307/500\n",
            "120/120 [==============================] - 16s 131ms/step - loss: 0.0012 - accuracy: 2.5269e-04\n",
            "Epoch 308/500\n",
            "120/120 [==============================] - 15s 129ms/step - loss: 0.0014 - accuracy: 1.5689e-04\n",
            "Epoch 309/500\n",
            "120/120 [==============================] - 16s 130ms/step - loss: 0.0012 - accuracy: 8.1179e-04\n",
            "Epoch 310/500\n",
            "120/120 [==============================] - 16s 130ms/step - loss: 0.0011 - accuracy: 5.4944e-04\n",
            "Epoch 311/500\n",
            "120/120 [==============================] - 16s 129ms/step - loss: 0.0012 - accuracy: 9.9393e-04\n",
            "Epoch 312/500\n",
            "120/120 [==============================] - 15s 129ms/step - loss: 0.0012 - accuracy: 0.0016\n",
            "Epoch 313/500\n",
            "120/120 [==============================] - 16s 130ms/step - loss: 0.0013 - accuracy: 2.7734e-05\n",
            "Epoch 314/500\n",
            "120/120 [==============================] - 16s 130ms/step - loss: 0.0012 - accuracy: 5.4944e-04\n",
            "Epoch 315/500\n",
            "120/120 [==============================] - 16s 133ms/step - loss: 0.0011 - accuracy: 9.0799e-04\n",
            "Epoch 316/500\n",
            "120/120 [==============================] - 16s 134ms/step - loss: 0.0011 - accuracy: 0.0018\n",
            "Epoch 317/500\n",
            "120/120 [==============================] - 16s 134ms/step - loss: 0.0011 - accuracy: 4.4990e-04\n",
            "Epoch 318/500\n",
            "120/120 [==============================] - 16s 137ms/step - loss: 0.0014 - accuracy: 5.7632e-04\n",
            "Epoch 319/500\n",
            "120/120 [==============================] - 16s 135ms/step - loss: 0.0012 - accuracy: 3.0020e-04\n",
            "Epoch 320/500\n",
            "120/120 [==============================] - 18s 147ms/step - loss: 0.0011 - accuracy: 2.6198e-04\n",
            "Epoch 321/500\n",
            "120/120 [==============================] - 16s 129ms/step - loss: 0.0013 - accuracy: 6.4761e-04\n",
            "Epoch 322/500\n",
            "120/120 [==============================] - 15s 128ms/step - loss: 0.0011 - accuracy: 2.3443e-04\n",
            "Epoch 323/500\n",
            "120/120 [==============================] - 16s 130ms/step - loss: 0.0011 - accuracy: 1.3786e-05\n",
            "Epoch 324/500\n",
            "120/120 [==============================] - 16s 132ms/step - loss: 0.0011 - accuracy: 2.4351e-04\n",
            "Epoch 325/500\n",
            "120/120 [==============================] - 16s 130ms/step - loss: 0.0011 - accuracy: 0.0011\n",
            "Epoch 326/500\n",
            "120/120 [==============================] - 16s 131ms/step - loss: 0.0011 - accuracy: 7.4216e-04\n",
            "Epoch 327/500\n",
            "120/120 [==============================] - 16s 134ms/step - loss: 0.0011 - accuracy: 7.7624e-04\n",
            "Epoch 328/500\n",
            "120/120 [==============================] - 16s 130ms/step - loss: 0.0012 - accuracy: 2.9048e-04\n",
            "Epoch 329/500\n",
            "120/120 [==============================] - 16s 136ms/step - loss: 0.0012 - accuracy: 3.0020e-04\n",
            "Epoch 330/500\n",
            "120/120 [==============================] - 16s 131ms/step - loss: 0.0013 - accuracy: 3.6107e-04\n",
            "Epoch 331/500\n",
            "120/120 [==============================] - 15s 128ms/step - loss: 0.0011 - accuracy: 5.6359e-05\n",
            "Epoch 332/500\n",
            "120/120 [==============================] - 16s 131ms/step - loss: 0.0011 - accuracy: 2.0731e-05\n",
            "Epoch 333/500\n",
            "120/120 [==============================] - 16s 129ms/step - loss: 0.0012 - accuracy: 0.0013\n",
            "Epoch 334/500\n",
            "120/120 [==============================] - 16s 129ms/step - loss: 0.0014 - accuracy: 0.0015\n",
            "Epoch 335/500\n",
            "120/120 [==============================] - 15s 129ms/step - loss: 0.0012 - accuracy: 6.3672e-05\n",
            "Epoch 336/500\n",
            "120/120 [==============================] - 16s 129ms/step - loss: 0.0011 - accuracy: 6.1835e-04\n",
            "Epoch 337/500\n",
            "120/120 [==============================] - 16s 130ms/step - loss: 0.0012 - accuracy: 7.7624e-04\n",
            "Epoch 338/500\n",
            "120/120 [==============================] - 16s 129ms/step - loss: 0.0012 - accuracy: 0.0011\n",
            "Epoch 339/500\n",
            "120/120 [==============================] - 16s 130ms/step - loss: 0.0012 - accuracy: 3.1004e-04\n",
            "Epoch 340/500\n",
            "120/120 [==============================] - 16s 129ms/step - loss: 0.0012 - accuracy: 3.3007e-04\n",
            "Epoch 341/500\n",
            "120/120 [==============================] - 16s 132ms/step - loss: 0.0012 - accuracy: 3.0020e-04\n",
            "Epoch 342/500\n",
            "120/120 [==============================] - 16s 130ms/step - loss: 0.0013 - accuracy: 1.4871e-04\n",
            "Epoch 343/500\n",
            "120/120 [==============================] - 17s 139ms/step - loss: 0.0010 - accuracy: 0.0011\n",
            "Epoch 344/500\n",
            "120/120 [==============================] - 16s 131ms/step - loss: 0.0012 - accuracy: 4.0429e-04\n",
            "Epoch 345/500\n",
            "120/120 [==============================] - 16s 131ms/step - loss: 0.0012 - accuracy: 4.1922e-05\n",
            "Epoch 346/500\n",
            "120/120 [==============================] - 16s 131ms/step - loss: 0.0012 - accuracy: 3.4798e-05\n",
            "Epoch 347/500\n",
            "120/120 [==============================] - 16s 133ms/step - loss: 0.0011 - accuracy: 5.7632e-04\n",
            "Epoch 348/500\n",
            "120/120 [==============================] - 15s 127ms/step - loss: 0.0011 - accuracy: 2.7734e-05\n",
            "Epoch 349/500\n",
            "120/120 [==============================] - 15s 126ms/step - loss: 0.0011 - accuracy: 1.1676e-04\n",
            "Epoch 350/500\n",
            "120/120 [==============================] - 15s 126ms/step - loss: 0.0014 - accuracy: 0.0032\n",
            "Epoch 351/500\n",
            "120/120 [==============================] - 15s 127ms/step - loss: 0.0011 - accuracy: 4.0429e-04\n",
            "Epoch 352/500\n",
            "120/120 [==============================] - 15s 127ms/step - loss: 0.0011 - accuracy: 0.0010\n",
            "Epoch 353/500\n",
            "120/120 [==============================] - 15s 126ms/step - loss: 9.6065e-04 - accuracy: 2.6198e-04\n",
            "Epoch 354/500\n",
            "120/120 [==============================] - 15s 126ms/step - loss: 0.0011 - accuracy: 0.0027\n",
            "Epoch 355/500\n",
            "120/120 [==============================] - 15s 127ms/step - loss: 0.0012 - accuracy: 6.3672e-05\n",
            "Epoch 356/500\n",
            "120/120 [==============================] - 15s 127ms/step - loss: 0.0012 - accuracy: 7.2563e-04\n",
            "Epoch 357/500\n",
            "120/120 [==============================] - 15s 126ms/step - loss: 0.0011 - accuracy: 0.0012\n",
            "Epoch 358/500\n",
            "120/120 [==============================] - 15s 125ms/step - loss: 0.0011 - accuracy: 4.9817e-04\n",
            "Epoch 359/500\n",
            "120/120 [==============================] - 15s 126ms/step - loss: 0.0012 - accuracy: 0.0027\n",
            "Epoch 360/500\n",
            "120/120 [==============================] - 15s 126ms/step - loss: 0.0011 - accuracy: 3.4798e-05\n",
            "Epoch 361/500\n",
            "120/120 [==============================] - 15s 125ms/step - loss: 0.0011 - accuracy: 0.0015\n",
            "Epoch 362/500\n",
            "120/120 [==============================] - 15s 127ms/step - loss: 0.0013 - accuracy: 2.7137e-04\n",
            "Epoch 363/500\n",
            "120/120 [==============================] - 15s 129ms/step - loss: 0.0012 - accuracy: 9.9393e-04\n",
            "Epoch 364/500\n",
            "120/120 [==============================] - 16s 135ms/step - loss: 0.0012 - accuracy: 6.7794e-04\n",
            "Epoch 365/500\n",
            "120/120 [==============================] - 15s 127ms/step - loss: 0.0012 - accuracy: 9.4985e-04\n",
            "Epoch 366/500\n",
            "120/120 [==============================] - 15s 127ms/step - loss: 9.7294e-04 - accuracy: 4.2678e-04\n",
            "Epoch 367/500\n",
            "120/120 [==============================] - 15s 127ms/step - loss: 0.0010 - accuracy: 3.2000e-04\n",
            "Epoch 368/500\n",
            "120/120 [==============================] - 15s 127ms/step - loss: 0.0012 - accuracy: 5.6359e-05\n",
            "Epoch 369/500\n",
            "120/120 [==============================] - 15s 127ms/step - loss: 0.0011 - accuracy: 2.8087e-04\n",
            "Epoch 370/500\n",
            "120/120 [==============================] - 15s 127ms/step - loss: 0.0012 - accuracy: 0.0015\n",
            "Epoch 371/500\n",
            "120/120 [==============================] - 15s 127ms/step - loss: 0.0011 - accuracy: 0.0011\n",
            "Epoch 372/500\n",
            "120/120 [==============================] - 15s 127ms/step - loss: 0.0014 - accuracy: 6.3285e-04\n",
            "Epoch 373/500\n",
            "120/120 [==============================] - 15s 126ms/step - loss: 0.0012 - accuracy: 2.9048e-04\n",
            "Epoch 374/500\n",
            "120/120 [==============================] - 15s 126ms/step - loss: 0.0013 - accuracy: 0.0024\n",
            "Epoch 375/500\n",
            "120/120 [==============================] - 15s 127ms/step - loss: 0.0011 - accuracy: 3.9327e-04\n",
            "Epoch 376/500\n",
            "120/120 [==============================] - 15s 127ms/step - loss: 0.0014 - accuracy: 0.0026\n",
            "Epoch 377/500\n",
            "120/120 [==============================] - 17s 142ms/step - loss: 0.0011 - accuracy: 0.0013\n",
            "Epoch 378/500\n",
            "120/120 [==============================] - 17s 140ms/step - loss: 0.0013 - accuracy: 3.9327e-04\n",
            "Epoch 379/500\n",
            "120/120 [==============================] - 16s 133ms/step - loss: 0.0011 - accuracy: 0.0010\n",
            "Epoch 380/500\n",
            "120/120 [==============================] - 16s 131ms/step - loss: 0.0011 - accuracy: 1.8194e-04\n",
            "Epoch 381/500\n",
            "120/120 [==============================] - 16s 131ms/step - loss: 0.0012 - accuracy: 4.4990e-04\n",
            "Epoch 382/500\n",
            "120/120 [==============================] - 16s 131ms/step - loss: 0.0013 - accuracy: 5.6277e-04\n",
            "Epoch 383/500\n",
            "120/120 [==============================] - 16s 134ms/step - loss: 0.0011 - accuracy: 0.0014\n",
            "Epoch 384/500\n",
            "120/120 [==============================] - 16s 134ms/step - loss: 0.0011 - accuracy: 7.5902e-04\n",
            "Epoch 385/500\n",
            "120/120 [==============================] - 16s 134ms/step - loss: 9.8785e-04 - accuracy: 2.5269e-04\n",
            "Epoch 386/500\n",
            "120/120 [==============================] - 16s 133ms/step - loss: 0.0012 - accuracy: 6.0410e-04\n",
            "Epoch 387/500\n",
            "120/120 [==============================] - 16s 133ms/step - loss: 0.0012 - accuracy: 6.3285e-04\n",
            "Epoch 388/500\n",
            "120/120 [==============================] - 16s 136ms/step - loss: 0.0012 - accuracy: 0.0044\n",
            "Epoch 389/500\n",
            "120/120 [==============================] - 17s 143ms/step - loss: 0.0012 - accuracy: 2.8087e-04\n",
            "Epoch 390/500\n",
            "120/120 [==============================] - 16s 136ms/step - loss: 0.0011 - accuracy: 2.0776e-04\n",
            "Epoch 391/500\n",
            "120/120 [==============================] - 17s 141ms/step - loss: 0.0011 - accuracy: 4.0429e-04\n",
            "Epoch 392/500\n",
            "120/120 [==============================] - 17s 142ms/step - loss: 0.0011 - accuracy: 0.0020\n",
            "Epoch 393/500\n",
            "120/120 [==============================] - 16s 136ms/step - loss: 0.0011 - accuracy: 4.0429e-04\n",
            "Epoch 394/500\n",
            "120/120 [==============================] - 16s 136ms/step - loss: 0.0013 - accuracy: 3.0020e-04\n",
            "Epoch 395/500\n",
            "120/120 [==============================] - 16s 136ms/step - loss: 0.0011 - accuracy: 0.0044\n",
            "Epoch 396/500\n",
            "120/120 [==============================] - 16s 133ms/step - loss: 0.0012 - accuracy: 6.3672e-05\n",
            "Epoch 397/500\n",
            "120/120 [==============================] - 16s 136ms/step - loss: 0.0012 - accuracy: 6.3672e-05\n",
            "Epoch 398/500\n",
            "120/120 [==============================] - 16s 137ms/step - loss: 9.8150e-04 - accuracy: 6.9353e-04\n",
            "Epoch 399/500\n",
            "120/120 [==============================] - 16s 134ms/step - loss: 0.0014 - accuracy: 3.1004e-04\n",
            "Epoch 400/500\n",
            "120/120 [==============================] - 16s 133ms/step - loss: 0.0010 - accuracy: 1.3786e-05\n",
            "Epoch 401/500\n",
            "120/120 [==============================] - 16s 136ms/step - loss: 0.0011 - accuracy: 0.0020\n",
            "Epoch 402/500\n",
            "120/120 [==============================] - 17s 141ms/step - loss: 0.0010 - accuracy: 0.0010\n",
            "Epoch 403/500\n",
            "120/120 [==============================] - 16s 136ms/step - loss: 0.0010 - accuracy: 0.0044\n",
            "Epoch 404/500\n",
            "120/120 [==============================] - 16s 137ms/step - loss: 0.0011 - accuracy: 0.0019\n",
            "Epoch 405/500\n",
            "120/120 [==============================] - 16s 133ms/step - loss: 0.0015 - accuracy: 3.3007e-04\n",
            "Epoch 406/500\n",
            "120/120 [==============================] - 16s 135ms/step - loss: 0.0013 - accuracy: 8.8784e-04\n",
            "Epoch 407/500\n",
            "120/120 [==============================] - 16s 135ms/step - loss: 9.5685e-04 - accuracy: 0.0010\n",
            "Epoch 408/500\n",
            "120/120 [==============================] - 16s 135ms/step - loss: 0.0012 - accuracy: 0.0024\n",
            "Epoch 409/500\n",
            "120/120 [==============================] - 16s 137ms/step - loss: 0.0011 - accuracy: 0.0015\n",
            "Epoch 410/500\n",
            "120/120 [==============================] - 18s 147ms/step - loss: 0.0014 - accuracy: 3.1004e-04\n",
            "Epoch 411/500\n",
            "120/120 [==============================] - 16s 134ms/step - loss: 0.0022 - accuracy: 1.9907e-04\n",
            "Epoch 412/500\n",
            "120/120 [==============================] - 16s 135ms/step - loss: 0.0019 - accuracy: 0.0011\n",
            "Epoch 413/500\n",
            "120/120 [==============================] - 18s 147ms/step - loss: 0.0017 - accuracy: 1.1676e-04\n",
            "Epoch 414/500\n",
            "120/120 [==============================] - 16s 135ms/step - loss: 0.0018 - accuracy: 0.0022\n",
            "Epoch 415/500\n",
            "120/120 [==============================] - 17s 139ms/step - loss: 0.0016 - accuracy: 6.4761e-04\n",
            "Epoch 416/500\n",
            "120/120 [==============================] - 16s 135ms/step - loss: 0.0016 - accuracy: 1.5689e-04\n",
            "Epoch 417/500\n",
            "120/120 [==============================] - 16s 135ms/step - loss: 0.0015 - accuracy: 0.0027\n",
            "Epoch 418/500\n",
            "120/120 [==============================] - 16s 134ms/step - loss: 0.0016 - accuracy: 1.3258e-04\n",
            "Epoch 419/500\n",
            "120/120 [==============================] - 16s 134ms/step - loss: 0.0014 - accuracy: 0.0013\n",
            "Epoch 420/500\n",
            "120/120 [==============================] - 17s 138ms/step - loss: 0.0016 - accuracy: 0.0019\n",
            "Epoch 421/500\n",
            "120/120 [==============================] - 17s 139ms/step - loss: 0.0016 - accuracy: 0.0014\n",
            "Epoch 422/500\n",
            "120/120 [==============================] - 17s 138ms/step - loss: 0.0017 - accuracy: 4.2678e-04\n",
            "Epoch 423/500\n",
            "120/120 [==============================] - 16s 134ms/step - loss: 0.0015 - accuracy: 5.9009e-04\n",
            "Epoch 424/500\n",
            "120/120 [==============================] - 16s 136ms/step - loss: 0.0013 - accuracy: 1.1676e-04\n",
            "Epoch 425/500\n",
            "120/120 [==============================] - 16s 137ms/step - loss: 0.0016 - accuracy: 2.4351e-04\n",
            "Epoch 426/500\n",
            "120/120 [==============================] - 16s 137ms/step - loss: 0.0014 - accuracy: 6.9353e-04\n",
            "Epoch 427/500\n",
            "120/120 [==============================] - 16s 137ms/step - loss: 0.0013 - accuracy: 9.9393e-04\n",
            "Epoch 428/500\n",
            "120/120 [==============================] - 16s 135ms/step - loss: 0.0014 - accuracy: 2.9048e-04\n",
            "Epoch 429/500\n",
            "120/120 [==============================] - 16s 133ms/step - loss: 0.0015 - accuracy: 3.0020e-04\n",
            "Epoch 430/500\n",
            "120/120 [==============================] - 17s 138ms/step - loss: 0.0014 - accuracy: 0.0021\n",
            "Epoch 431/500\n",
            "120/120 [==============================] - 16s 134ms/step - loss: 0.0012 - accuracy: 2.3443e-04\n",
            "Epoch 432/500\n",
            "120/120 [==============================] - 17s 143ms/step - loss: 0.0012 - accuracy: 3.0020e-04\n",
            "Epoch 433/500\n",
            "120/120 [==============================] - 17s 139ms/step - loss: 0.0014 - accuracy: 4.9109e-05\n",
            "Epoch 434/500\n",
            "120/120 [==============================] - 16s 133ms/step - loss: 0.0013 - accuracy: 7.5902e-04\n",
            "Epoch 435/500\n",
            "120/120 [==============================] - 16s 135ms/step - loss: 0.0013 - accuracy: 7.0942e-04\n",
            "Epoch 436/500\n",
            "120/120 [==============================] - 16s 134ms/step - loss: 0.0013 - accuracy: 4.3826e-04\n",
            "Epoch 437/500\n",
            "120/120 [==============================] - 16s 134ms/step - loss: 0.0013 - accuracy: 9.4985e-04\n",
            "Epoch 438/500\n",
            "120/120 [==============================] - 16s 137ms/step - loss: 0.0014 - accuracy: 2.2544e-04s - loss: 0.0014 - accuracy: 2.1521\n",
            "Epoch 439/500\n",
            "120/120 [==============================] - 17s 138ms/step - loss: 0.0012 - accuracy: 0.0021\n",
            "Epoch 440/500\n",
            "120/120 [==============================] - 16s 134ms/step - loss: 0.0012 - accuracy: 3.6107e-04\n",
            "Epoch 441/500\n",
            "120/120 [==============================] - 16s 134ms/step - loss: 0.0014 - accuracy: 3.4028e-04\n",
            "Epoch 442/500\n",
            "120/120 [==============================] - 16s 135ms/step - loss: 0.0012 - accuracy: 5.2341e-04\n",
            "Epoch 443/500\n",
            "120/120 [==============================] - 17s 138ms/step - loss: 0.0013 - accuracy: 0.0016\n",
            "Epoch 444/500\n",
            "120/120 [==============================] - 16s 135ms/step - loss: 0.0013 - accuracy: 7.7624e-04\n",
            "Epoch 445/500\n",
            "120/120 [==============================] - 16s 137ms/step - loss: 0.0014 - accuracy: 1.1676e-04\n",
            "Epoch 446/500\n",
            "120/120 [==============================] - 16s 136ms/step - loss: 0.0012 - accuracy: 4.9109e-05\n",
            "Epoch 447/500\n",
            "120/120 [==============================] - 17s 138ms/step - loss: 0.0014 - accuracy: 0.0029\n",
            "Epoch 448/500\n",
            "120/120 [==============================] - 16s 137ms/step - loss: 0.0013 - accuracy: 0.0013\n",
            "Epoch 449/500\n",
            "120/120 [==============================] - 16s 137ms/step - loss: 0.0013 - accuracy: 7.7624e-04\n",
            "Epoch 450/500\n",
            "120/120 [==============================] - 17s 140ms/step - loss: 0.0011 - accuracy: 2.1656e-04\n",
            "Epoch 451/500\n"
          ]
        },
        {
          "name": "stdout",
          "output_type": "stream",
          "text": [
            "120/120 [==============================] - 16s 133ms/step - loss: 0.0012 - accuracy: 2.8087e-04\n",
            "Epoch 452/500\n",
            "120/120 [==============================] - 16s 134ms/step - loss: 0.0013 - accuracy: 1.7350e-04\n",
            "Epoch 453/500\n",
            "120/120 [==============================] - 16s 131ms/step - loss: 0.0011 - accuracy: 0.0044\n",
            "Epoch 454/500\n",
            "120/120 [==============================] - 16s 130ms/step - loss: 0.0011 - accuracy: 2.3443e-04\n",
            "Epoch 455/500\n",
            "120/120 [==============================] - 17s 138ms/step - loss: 0.0013 - accuracy: 9.4985e-04\n",
            "Epoch 456/500\n",
            "120/120 [==============================] - 15s 128ms/step - loss: 0.0014 - accuracy: 5.9009e-04\n",
            "Epoch 457/500\n",
            "120/120 [==============================] - 16s 132ms/step - loss: 0.0011 - accuracy: 7.7624e-04\n",
            "Epoch 458/500\n",
            "120/120 [==============================] - 15s 129ms/step - loss: 0.0012 - accuracy: 1.3786e-05\n",
            "Epoch 459/500\n",
            "120/120 [==============================] - 16s 133ms/step - loss: 0.0013 - accuracy: 1.2464e-04\n",
            "Epoch 460/500\n",
            "120/120 [==============================] - 16s 129ms/step - loss: 0.0011 - accuracy: 6.1835e-04\n",
            "Epoch 461/500\n",
            "120/120 [==============================] - 16s 130ms/step - loss: 0.0011 - accuracy: 1.9046e-04\n",
            "Epoch 462/500\n",
            "120/120 [==============================] - 16s 129ms/step - loss: 0.0012 - accuracy: 0.0015\n",
            "Epoch 463/500\n",
            "120/120 [==============================] - 15s 128ms/step - loss: 0.0012 - accuracy: 3.2000e-04\n",
            "Epoch 464/500\n",
            "120/120 [==============================] - 16s 130ms/step - loss: 0.0011 - accuracy: 0.0026\n",
            "Epoch 465/500\n",
            "120/120 [==============================] - 16s 130ms/step - loss: 9.7398e-04 - accuracy: 6.7794e-04\n",
            "Epoch 466/500\n",
            "120/120 [==============================] - 16s 129ms/step - loss: 9.8492e-04 - accuracy: 0.0010\n",
            "Epoch 467/500\n",
            "120/120 [==============================] - 15s 129ms/step - loss: 9.8958e-04 - accuracy: 7.1051e-05\n",
            "Epoch 468/500\n",
            "120/120 [==============================] - 16s 129ms/step - loss: 0.0012 - accuracy: 5.1069e-04\n",
            "Epoch 469/500\n",
            "120/120 [==============================] - 16s 130ms/step - loss: 0.0013 - accuracy: 9.2865e-04\n",
            "Epoch 470/500\n",
            "120/120 [==============================] - 16s 131ms/step - loss: 0.0011 - accuracy: 1.5689e-04\n",
            "Epoch 471/500\n",
            "120/120 [==============================] - 16s 132ms/step - loss: 0.0010 - accuracy: 8.1179e-04\n",
            "Epoch 472/500\n",
            "120/120 [==============================] - 16s 131ms/step - loss: 0.0012 - accuracy: 5.7632e-04\n",
            "Epoch 473/500\n",
            "120/120 [==============================] - 16s 133ms/step - loss: 9.9233e-04 - accuracy: 3.6107e-04\n",
            "Epoch 474/500\n",
            "120/120 [==============================] - 19s 156ms/step - loss: 0.0011 - accuracy: 1.7350e-04\n",
            "Epoch 475/500\n",
            "120/120 [==============================] - 19s 155ms/step - loss: 0.0011 - accuracy: 2.3443e-04\n",
            "Epoch 476/500\n",
            "120/120 [==============================] - 17s 142ms/step - loss: 0.0011 - accuracy: 1.3258e-04\n",
            "Epoch 477/500\n",
            "120/120 [==============================] - 17s 138ms/step - loss: 0.0011 - accuracy: 0.0014\n",
            "Epoch 478/500\n",
            "120/120 [==============================] - 16s 135ms/step - loss: 0.0010 - accuracy: 3.5061e-04\n",
            "Epoch 479/500\n",
            "120/120 [==============================] - 16s 134ms/step - loss: 0.0011 - accuracy: 4.1922e-05\n",
            "Epoch 480/500\n",
            "120/120 [==============================] - 16s 136ms/step - loss: 0.0012 - accuracy: 0.0018\n",
            "Epoch 481/500\n",
            "120/120 [==============================] - 16s 136ms/step - loss: 0.0011 - accuracy: 4.7368e-04\n",
            "Epoch 482/500\n",
            "120/120 [==============================] - 16s 135ms/step - loss: 0.0011 - accuracy: 0.0011\n",
            "Epoch 483/500\n",
            "120/120 [==============================] - 16s 134ms/step - loss: 0.0011 - accuracy: 0.0015\n",
            "Epoch 484/500\n",
            "120/120 [==============================] - 16s 135ms/step - loss: 0.0012 - accuracy: 5.7632e-04\n",
            "Epoch 485/500\n",
            "120/120 [==============================] - 16s 133ms/step - loss: 9.7241e-04 - accuracy: 1.1676e-04\n",
            "Epoch 486/500\n",
            "120/120 [==============================] - 16s 133ms/step - loss: 0.0011 - accuracy: 0.0019\n",
            "Epoch 487/500\n",
            "120/120 [==============================] - 16s 135ms/step - loss: 0.0010 - accuracy: 3.3007e-04\n",
            "Epoch 488/500\n",
            "120/120 [==============================] - 18s 146ms/step - loss: 0.0012 - accuracy: 6.1835e-04\n",
            "Epoch 489/500\n",
            "120/120 [==============================] - 17s 145ms/step - loss: 0.0010 - accuracy: 0.0016\n",
            "Epoch 490/500\n",
            "120/120 [==============================] - 16s 137ms/step - loss: 0.0011 - accuracy: 9.2865e-04\n",
            "Epoch 491/500\n",
            "120/120 [==============================] - 16s 136ms/step - loss: 0.0011 - accuracy: 3.3007e-04\n",
            "Epoch 492/500\n",
            "120/120 [==============================] - 16s 135ms/step - loss: 0.0011 - accuracy: 2.7137e-04\n",
            "Epoch 493/500\n",
            "120/120 [==============================] - 16s 137ms/step - loss: 0.0012 - accuracy: 0.0036\n",
            "Epoch 494/500\n",
            "120/120 [==============================] - 17s 139ms/step - loss: 0.0011 - accuracy: 1.2464e-04\n",
            "Epoch 495/500\n",
            "120/120 [==============================] - 17s 140ms/step - loss: 0.0011 - accuracy: 0.0011\n",
            "Epoch 496/500\n",
            "120/120 [==============================] - 16s 137ms/step - loss: 0.0010 - accuracy: 2.2544e-04\n",
            "Epoch 497/500\n",
            "120/120 [==============================] - 16s 137ms/step - loss: 0.0012 - accuracy: 5.2341e-04\n",
            "Epoch 498/500\n",
            "120/120 [==============================] - 17s 143ms/step - loss: 9.0656e-04 - accuracy: 7.4216e-04\n",
            "Epoch 499/500\n",
            "120/120 [==============================] - 16s 136ms/step - loss: 0.0011 - accuracy: 7.4216e-04\n",
            "Epoch 500/500\n",
            "120/120 [==============================] - 16s 137ms/step - loss: 0.0011 - accuracy: 0.0024\n"
          ]
        },
        {
          "data": {
            "text/plain": [
              "<keras.callbacks.History at 0x1f965596df0>"
            ]
          },
          "execution_count": 20,
          "metadata": {},
          "output_type": "execute_result"
        }
      ]
    },
    {
      "cell_type": "markdown",
      "metadata": {
        "id": "4hRau_lIkrE8"
      },
      "source": [
        "## Part 3 - Making the predictions and visualising the results"
      ]
    },
    {
      "cell_type": "markdown",
      "metadata": {
        "id": "SgJO6qEDksxD"
      },
      "source": [
        "### Getting the real stock price of 2017"
      ]
    },
    {
      "cell_type": "code",
      "metadata": {
        "id": "FmBT2zqukxTz"
      },
      "source": [
        "dataset_test = pd.read_csv('cubtest3.csv')\n",
        "real_stock_price = dataset_test.iloc[:, 1:2].values"
      ],
      "execution_count": null,
      "outputs": []
    },
    {
      "cell_type": "markdown",
      "metadata": {
        "id": "GrvrLblxkz42"
      },
      "source": [
        "### Getting the predicted stock price of 2017"
      ]
    },
    {
      "cell_type": "code",
      "metadata": {
        "id": "emikTvUpk3Ck"
      },
      "source": [
        "dataset_total = pd.concat((dataset_train['Open'], dataset_test['Open']), axis = 0)\n",
        "inputs = dataset_total[len(dataset_total) - len(dataset_test) - 60:].values\n",
        "inputs = inputs.reshape(-1,1)\n",
        "inputs = sc.transform(inputs)\n",
        "X_test = []\n",
        "for i in range(60, 81):\n",
        "    X_test.append(inputs[i-60:i, 0])\n",
        "X_test = np.array(X_test)\n",
        "X_test = np.reshape(X_test, (X_test.shape[0], X_test.shape[1], 1))\n",
        "predicted_stock_price = regressor.predict(X_test)\n",
        "predicted_stock_price = sc.inverse_transform(predicted_stock_price)"
      ],
      "execution_count": null,
      "outputs": []
    },
    {
      "cell_type": "markdown",
      "metadata": {
        "id": "iFTNs3YHk6FQ"
      },
      "source": [
        "### Visualising the results"
      ]
    },
    {
      "cell_type": "code",
      "metadata": {
        "colab": {
          "base_uri": "https://localhost:8080/",
          "height": 295
        },
        "id": "8OUI8U49k9tH",
        "outputId": "3b6f2890-ac7c-4e9c-e1fb-e28d434dfb39"
      },
      "source": [
        "plt.plot(real_stock_price, color = 'red', label = 'Real Google Stock Price')\n",
        "plt.plot(predicted_stock_price, color = 'blue', label = 'Predicted Google Stock Price')\n",
        "plt.title('Google Stock Price Prediction')\n",
        "plt.xlabel('Time')\n",
        "plt.ylabel('Google Stock Price')\n",
        "plt.legend()\n",
        "plt.show()"
      ],
      "execution_count": null,
      "outputs": [
        {
          "data": {
            "image/png": "[encoded data removed]",
            "text/plain": [
              "<Figure size 432x288 with 1 Axes>"
            ]
          },
          "metadata": {
            "needs_background": "light"
          },
          "output_type": "display_data"
        }
      ]
    },
    {
      "cell_type": "code",
      "metadata": {
        "id": "x7DCS-zRgd1F"
      },
      "source": [
        "regressor.save('my_model_cub4.h5')"
      ],
      "execution_count": null,
      "outputs": []
    },
    {
      "cell_type": "code",
      "metadata": {
        "id": "Mu6VdH83XEN1"
      },
      "source": [
        ""
      ],
      "execution_count": null,
      "outputs": []
    },
    {
      "cell_type": "code",
      "metadata": {
        "id": "CB6qeYR-XEN1"
      },
      "source": [
        ""
      ],
      "execution_count": null,
      "outputs": []
    }
  ]
}